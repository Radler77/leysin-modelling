{
 "cells": [
  {
   "cell_type": "code",
   "execution_count": null,
   "outputs": [],
   "source": [
    "from snowpiercer.simulation import PopulationPlotter\n",
    "from snowpiercer.simulation import Simulation\n",
    "from snowpiercer.world import World"
   ],
   "metadata": {
    "collapsed": false
   },
   "id": "2f865b7c2307edc"
  },
  {
   "cell_type": "code",
   "execution_count": 43,
   "outputs": [],
   "source": [
    "number_of_timesteps = 70"
   ],
   "metadata": {
    "collapsed": false,
    "ExecuteTime": {
     "end_time": "2023-08-22T09:24:43.764010299Z",
     "start_time": "2023-08-22T09:24:43.757108142Z"
    }
   },
   "id": "9bf73ddbdcfd2a6e"
  },
  {
   "cell_type": "code",
   "execution_count": 44,
   "outputs": [],
   "source": [
    "world = World.create_simple_world()"
   ],
   "metadata": {
    "collapsed": false,
    "ExecuteTime": {
     "end_time": "2023-08-22T09:24:44.092812077Z",
     "start_time": "2023-08-22T09:24:44.063608326Z"
    }
   },
   "id": "24dfc4baf163874c"
  },
  {
   "cell_type": "code",
   "execution_count": 45,
   "outputs": [],
   "source": [
    "world = World.create_simple_but_aggressive_world()"
   ],
   "metadata": {
    "collapsed": false,
    "ExecuteTime": {
     "end_time": "2023-08-22T09:24:44.402914660Z",
     "start_time": "2023-08-22T09:24:44.394917731Z"
    }
   },
   "id": "c90289c527e2a52d"
  },
  {
   "cell_type": "code",
   "execution_count": 46,
   "outputs": [
    {
     "ename": "AttributeError",
     "evalue": "'Simulation' object has no attribute 'get_data_log'",
     "output_type": "error",
     "traceback": [
      "\u001B[0;31m---------------------------------------------------------------------------\u001B[0m",
      "\u001B[0;31mAttributeError\u001B[0m                            Traceback (most recent call last)",
      "Cell \u001B[0;32mIn[46], line 3\u001B[0m\n\u001B[1;32m      1\u001B[0m simulation: Simulation \u001B[38;5;241m=\u001B[39m Simulation(number_of_timesteps, world)\n\u001B[1;32m      2\u001B[0m simulation\u001B[38;5;241m.\u001B[39mrun()\n\u001B[0;32m----> 3\u001B[0m data \u001B[38;5;241m=\u001B[39m \u001B[43msimulation\u001B[49m\u001B[38;5;241;43m.\u001B[39;49m\u001B[43mget_data_log\u001B[49m()\n\u001B[1;32m      4\u001B[0m plotter \u001B[38;5;241m=\u001B[39m PopulationPlotter()\u001B[38;5;241m.\u001B[39mplot(data)\n",
      "\u001B[0;31mAttributeError\u001B[0m: 'Simulation' object has no attribute 'get_data_log'"
     ]
    }
   ],
   "source": [
    "simulation: Simulation = Simulation(number_of_timesteps, world)\n",
    "simulation.run()\n",
    "data = simulation.get_data_log()\n",
    "plotter = PopulationPlotter().plot(data)"
   ],
   "metadata": {
    "collapsed": false,
    "ExecuteTime": {
     "end_time": "2023-08-22T09:24:44.792916202Z",
     "start_time": "2023-08-22T09:24:44.768288280Z"
    }
   },
   "id": "ac35f7bc7b8ffbe5"
  },
  {
   "cell_type": "code",
   "execution_count": null,
   "outputs": [],
   "source": [],
   "metadata": {
    "collapsed": false
   },
   "id": "edab2e05d458df03"
  }
 ],
 "metadata": {
  "kernelspec": {
   "display_name": "Python 3",
   "language": "python",
   "name": "python3"
  },
  "language_info": {
   "codemirror_mode": {
    "name": "ipython",
    "version": 2
   },
   "file_extension": ".py",
   "mimetype": "text/x-python",
   "name": "python",
   "nbconvert_exporter": "python",
   "pygments_lexer": "ipython2",
   "version": "2.7.6"
  }
 },
 "nbformat": 4,
 "nbformat_minor": 5
}
