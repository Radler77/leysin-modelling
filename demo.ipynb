{
 "cells": [
  {
   "cell_type": "code",
   "execution_count": null,
   "outputs": [],
   "source": [
    "# imports\n",
    "\n"
   ],
   "metadata": {
    "collapsed": false
   },
   "id": "ce1982ad8700675c"
  },
  {
   "cell_type": "markdown",
   "source": [
    "First, we set our parameters:"
   ],
   "metadata": {
    "collapsed": false
   },
   "id": "211a64e59c67a875"
  },
  {
   "cell_type": "code",
   "execution_count": null,
   "outputs": [],
   "source": [
    "number_of_timesteps=20\n",
    "world=World.create_simple_world()"
   ],
   "metadata": {
    "collapsed": false
   },
   "id": "3ac9184fb414f4d"
  }
 ],
 "metadata": {
  "kernelspec": {
   "display_name": "Python 3",
   "language": "python",
   "name": "python3"
  },
  "language_info": {
   "codemirror_mode": {
    "name": "ipython",
    "version": 2
   },
   "file_extension": ".py",
   "mimetype": "text/x-python",
   "name": "python",
   "nbconvert_exporter": "python",
   "pygments_lexer": "ipython2",
   "version": "2.7.6"
  }
 },
 "nbformat": 4,
 "nbformat_minor": 5
}
